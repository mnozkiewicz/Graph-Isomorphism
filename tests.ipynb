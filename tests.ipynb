{
 "cells": [
  {
   "cell_type": "code",
   "execution_count": 5,
   "id": "e383024e",
   "metadata": {},
   "outputs": [],
   "source": [
    "from comparison import tests, ORDER\n",
    "import pandas as pd\n",
    "import numpy as np"
   ]
  },
  {
   "cell_type": "code",
   "execution_count": 6,
   "id": "552e6a1f",
   "metadata": {},
   "outputs": [
    {
     "data": {
      "text/plain": [
       "['number_of_nodes',\n",
       " 'features',\n",
       " 'histogram_range',\n",
       " 'include_node_features',\n",
       " 'normalize']"
      ]
     },
     "execution_count": 6,
     "metadata": {},
     "output_type": "execute_result"
    }
   ],
   "source": [
    "ORDER"
   ]
  },
  {
   "cell_type": "code",
   "execution_count": null,
   "id": "550842b8",
   "metadata": {},
   "outputs": [],
   "source": [
    "arguments_list = []\n",
    "\n",
    "for number_of_nodes in [7, 9]:\n",
    "    for features in [(\"moltop\",), (\"moltop\",\"ltp\")]:\n",
    "        features = np.array(features)\n",
    "        for histogram_range in [(0,1)]:\n",
    "            histogram_range = np.array(histogram_range)\n",
    "            for include_node_features in [True]:\n",
    "                for normalize in [True]:\n",
    "                    arguments_list.append(dict(number_of_nodes=number_of_nodes,\n",
    "                                               histogram_range=histogram_range,\n",
    "                                               features=features,\n",
    "                                               include_node_features=include_node_features,\n",
    "                                               normalize=normalize))"
   ]
  },
  {
   "cell_type": "code",
   "execution_count": 8,
   "id": "f0712819",
   "metadata": {},
   "outputs": [
    {
     "name": "stdout",
     "output_type": "stream",
     "text": [
      "0\n",
      "[-1]\n",
      "0\n",
      "2000\n",
      "4000\n",
      "6000\n",
      "8000\n",
      "10000\n",
      "12000\n",
      "14000\n",
      "16000\n",
      "18000\n",
      "20000\n",
      "22000\n",
      "24000\n",
      "26000\n",
      "28000\n",
      "30000\n",
      "32000\n",
      "34000\n",
      "36000\n",
      "38000\n",
      "40000\n",
      "42000\n",
      "44000\n",
      "46000\n",
      "48000\n",
      "50000\n",
      "52000\n",
      "54000\n",
      "56000\n",
      "58000\n",
      "60000\n",
      "62000\n",
      "64000\n",
      "66000\n",
      "68000\n",
      "70000\n",
      "72000\n",
      "74000\n",
      "76000\n",
      "78000\n",
      "80000\n",
      "82000\n",
      "84000\n",
      "86000\n",
      "88000\n",
      "90000\n",
      "92000\n",
      "94000\n",
      "96000\n",
      "98000\n",
      "100000\n",
      "102000\n",
      "104000\n",
      "106000\n",
      "108000\n",
      "110000\n",
      "112000\n",
      "114000\n",
      "116000\n",
      "118000\n",
      "120000\n",
      "122000\n",
      "124000\n",
      "126000\n",
      "128000\n",
      "130000\n",
      "132000\n",
      "134000\n",
      "136000\n",
      "138000\n",
      "140000\n",
      "142000\n",
      "144000\n",
      "146000\n",
      "148000\n",
      "150000\n",
      "152000\n",
      "154000\n",
      "156000\n",
      "158000\n",
      "160000\n",
      "162000\n",
      "164000\n",
      "166000\n",
      "168000\n",
      "170000\n",
      "172000\n",
      "174000\n",
      "176000\n",
      "178000\n",
      "180000\n",
      "182000\n",
      "184000\n",
      "186000\n",
      "188000\n",
      "190000\n",
      "192000\n",
      "194000\n",
      "196000\n",
      "198000\n",
      "200000\n",
      "202000\n",
      "204000\n",
      "206000\n",
      "208000\n",
      "210000\n",
      "212000\n",
      "214000\n",
      "216000\n",
      "218000\n",
      "220000\n",
      "222000\n",
      "224000\n",
      "226000\n",
      "228000\n",
      "230000\n",
      "232000\n",
      "234000\n",
      "236000\n",
      "238000\n",
      "240000\n",
      "242000\n",
      "244000\n",
      "246000\n",
      "248000\n",
      "250000\n",
      "252000\n",
      "254000\n",
      "256000\n",
      "258000\n",
      "260000\n",
      "[43164, 43187, 106775, 106807, 114466, 114981, 202304, 202368, 207472, 207863, 244513, 244515, 243804, 245118, 248107, 248112, 251375, 251580, 254214, 254246, 252078, 254636, 254527, 255280, 255477, 255484, 254651, 260032, 260429, 260446, 260478, 260479, 260480, 260484, 260813, 260934, 261015, 261016]\n"
     ]
    }
   ],
   "source": [
    "tests(arguments_list)"
   ]
  },
  {
   "cell_type": "code",
   "execution_count": 9,
   "id": "ec5d091f",
   "metadata": {},
   "outputs": [
    {
     "data": {
      "text/plain": [
       "a    1\n",
       "b    2\n",
       "dtype: int64"
      ]
     },
     "execution_count": 9,
     "metadata": {},
     "output_type": "execute_result"
    }
   ],
   "source": [
    "df = pd.DataFrame([\n",
    "    {'a': 1, 'b': 2},\n",
    "    {'a': 1, 'b': 3},\n",
    "    {'a': 2, 'b': 2}\n",
    "])\n",
    "\n",
    "# Słownik z wartościami do sprawdzenia\n",
    "criteria = {'a': 1, 'b': 2}\n",
    "\n",
    "# Sprawdzenie, czy istnieje taki wiersz\n",
    "exists = ((df[list(criteria)] == pd.Series(criteria)).all(axis=1)).any()\n",
    "\n",
    "pd.Series(criteria)"
   ]
  },
  {
   "cell_type": "code",
   "execution_count": 10,
   "id": "e884014e",
   "metadata": {},
   "outputs": [
    {
     "data": {
      "text/html": [
       "<div>\n",
       "<style scoped>\n",
       "    .dataframe tbody tr th:only-of-type {\n",
       "        vertical-align: middle;\n",
       "    }\n",
       "\n",
       "    .dataframe tbody tr th {\n",
       "        vertical-align: top;\n",
       "    }\n",
       "\n",
       "    .dataframe thead th {\n",
       "        text-align: right;\n",
       "    }\n",
       "</style>\n",
       "<table border=\"1\" class=\"dataframe\">\n",
       "  <thead>\n",
       "    <tr style=\"text-align: right;\">\n",
       "      <th></th>\n",
       "      <th>number_of_nodes</th>\n",
       "      <th>features</th>\n",
       "      <th>histogram_range</th>\n",
       "      <th>include_node_features</th>\n",
       "      <th>normalize</th>\n",
       "      <th>result</th>\n",
       "    </tr>\n",
       "  </thead>\n",
       "  <tbody>\n",
       "    <tr>\n",
       "      <th>0</th>\n",
       "      <td>7</td>\n",
       "      <td>[moltop]</td>\n",
       "      <td>[0, 1]</td>\n",
       "      <td>True</td>\n",
       "      <td>True</td>\n",
       "      <td>[-1]</td>\n",
       "    </tr>\n",
       "    <tr>\n",
       "      <th>0</th>\n",
       "      <td>9</td>\n",
       "      <td>[moltop]</td>\n",
       "      <td>[0, 1]</td>\n",
       "      <td>True</td>\n",
       "      <td>True</td>\n",
       "      <td>[43164, 43187, 106775, 106807, 114466, 114981,...</td>\n",
       "    </tr>\n",
       "  </tbody>\n",
       "</table>\n",
       "</div>"
      ],
      "text/plain": [
       "   number_of_nodes  features histogram_range  include_node_features  \\\n",
       "0                7  [moltop]          [0, 1]                   True   \n",
       "0                9  [moltop]          [0, 1]                   True   \n",
       "\n",
       "   normalize                                             result  \n",
       "0       True                                               [-1]  \n",
       "0       True  [43164, 43187, 106775, 106807, 114466, 114981,...  "
      ]
     },
     "execution_count": 10,
     "metadata": {},
     "output_type": "execute_result"
    }
   ],
   "source": [
    "pd.read_parquet('processed_datasets/table.parquet')"
   ]
  }
 ],
 "metadata": {
  "kernelspec": {
   "display_name": "Graph-Isomorphism",
   "language": "python",
   "name": "python3"
  },
  "language_info": {
   "codemirror_mode": {
    "name": "ipython",
    "version": 3
   },
   "file_extension": ".py",
   "mimetype": "text/x-python",
   "name": "python",
   "nbconvert_exporter": "python",
   "pygments_lexer": "ipython3",
   "version": "3.12.3"
  }
 },
 "nbformat": 4,
 "nbformat_minor": 5
}
