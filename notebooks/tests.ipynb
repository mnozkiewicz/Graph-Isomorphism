{
 "cells": [
  {
   "cell_type": "code",
   "execution_count": null,
   "id": "201bde1f",
   "metadata": {},
   "outputs": [],
   "source": [
    "from sys import path\n",
    "\n",
    "path.append(\"..\")"
   ]
  },
  {
   "cell_type": "code",
   "execution_count": null,
   "id": "e383024e",
   "metadata": {},
   "outputs": [],
   "source": [
    "from comparison import tests, ORDER\n",
    "import pandas as pd\n",
    "import numpy as np"
   ]
  },
  {
   "cell_type": "code",
   "execution_count": null,
   "id": "550842b8",
   "metadata": {},
   "outputs": [],
   "source": [
    "arguments_list = []\n",
    "\n",
    "for number_of_nodes in [7, 8, 9]:\n",
    "    for features in [(\"moltop\",), (\"moltop\",\"ltp\"), (\"moltop\", \"ldp\"), (\"moltop\", \"ltp\", \"ldp\")]:\n",
    "        features = np.array(features)\n",
    "        for normalize in [True, False]:\n",
    "            arguments_list.append(dict(number_of_nodes=number_of_nodes,\n",
    "                                        features=features,\n",
    "                                        normalize=normalize))"
   ]
  },
  {
   "cell_type": "code",
   "execution_count": null,
   "id": "f0712819",
   "metadata": {},
   "outputs": [],
   "source": [
    "tests(arguments_list)"
   ]
  },
  {
   "cell_type": "code",
   "execution_count": null,
   "id": "e884014e",
   "metadata": {},
   "outputs": [],
   "source": [
    "test_data = pd.read_parquet('processed_datasets/table.parquet')\n",
    "test_data['count'] = test_data['result'].apply(len)"
   ]
  },
  {
   "cell_type": "code",
   "execution_count": null,
   "id": "8dde1f3e",
   "metadata": {},
   "outputs": [],
   "source": [
    "test_data"
   ]
  },
  {
   "cell_type": "code",
   "execution_count": null,
   "id": "464c0b66",
   "metadata": {},
   "outputs": [],
   "source": [
    "import seaborn as sns\n",
    "test_data['features'] = test_data['features'].astype('string').astype('category')\n",
    "test_data.columns"
   ]
  },
  {
   "cell_type": "code",
   "execution_count": null,
   "id": "ef44c75e",
   "metadata": {},
   "outputs": [],
   "source": [
    "\n",
    "g = sns.pairplot(test_data.drop(columns=['result']), \n",
    "             y_vars=['count'],\n",
    "             x_vars=['features', 'number_of_nodes', 'normalize'],\n",
    "             )\n",
    "\n",
    "for ax in g.axes.flatten():\n",
    "    for label in ax.get_xticklabels():\n",
    "        label.set_rotation(45)"
   ]
  }
 ],
 "metadata": {
  "kernelspec": {
   "display_name": "graph-isomorphism (3.12.11)",
   "language": "python",
   "name": "python3"
  },
  "language_info": {
   "codemirror_mode": {
    "name": "ipython",
    "version": 3
   },
   "file_extension": ".py",
   "mimetype": "text/x-python",
   "name": "python",
   "nbconvert_exporter": "python",
   "pygments_lexer": "ipython3",
   "version": "3.12.11"
  }
 },
 "nbformat": 4,
 "nbformat_minor": 5
}
