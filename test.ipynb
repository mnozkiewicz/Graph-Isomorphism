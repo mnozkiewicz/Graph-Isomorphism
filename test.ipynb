{
 "cells": [
  {
   "cell_type": "code",
   "execution_count": 2,
   "id": "a037557c",
   "metadata": {},
   "outputs": [
    {
     "name": "stdout",
     "output_type": "stream",
     "text": [
      "Degree Centrality: [3.0, 2.0, 1.0, 1.0, 3.0, 4.0]\n",
      "Clustering Coefficient: [0.3333333333333333, 1.0, 0.0, 0.0, 0.6666666666666666, 0.3333333333333333]\n",
      "Betweenness Centrality: [8.0, 0.0, 0.0, 0.0, 2.0, 10.0]\n",
      "PageRank Scores: [0.21345677779397276, 0.14079926976455895, 0.08314975740481925, 0.08547941866810045, 0.20346886453122345, 0.2736459118373251]\n"
     ]
    },
    {
     "data": {
      "image/png": "[encoded data removed]",
      "text/plain": [
       "<Figure size 640x480 with 1 Axes>"
      ]
     },
     "metadata": {},
     "output_type": "display_data"
    }
   ],
   "source": [
    "import rdkit\n",
    "import networkx as nx\n",
    "import networkit as nk\n",
    "import numpy as np\n",
    "\n",
    "\n",
    "def draw_graph(G: nx.Graph):\n",
    "    pos = nx.kamada_kawai_layout(G)\n",
    "    nx.draw(G, pos=pos)\n",
    "    nx.draw_networkx_labels(G , pos=pos, labels={i : i for i in G.nodes})\n",
    "\n",
    "\n",
    "graphs = nx.read_graph6(\"raw_datasets/example_graph.g6\")\n",
    "i = 9\n",
    "graph_nk = nk.nxadapter.nx2nk(graphs[i])\n",
    "graph_nx = graphs[i]\n",
    "\n",
    "deg = nk.centrality.DegreeCentrality(graph_nk ).run()\n",
    "print(\"Degree Centrality:\", deg.scores())\n",
    "\n",
    "# Compute clustering coefficient\n",
    "clust = nk.centrality.LocalClusteringCoefficient(graph_nk ).run()\n",
    "print(\"Clustering Coefficient:\", clust.scores())\n",
    "\n",
    "# Compute betweenness centrality\n",
    "bet = nk.centrality.Betweenness(graph_nk ).run()\n",
    "print(\"Betweenness Centrality:\", bet.scores())\n",
    "\n",
    "# Compute PageRank\n",
    "pr = nk.centrality.PageRank(graph_nk, damp=0.85).run()\n",
    "print(\"PageRank Scores:\", pr.scores())\n",
    "\n",
    "draw_graph(graph_nx)"
   ]
  },
  {
   "cell_type": "markdown",
   "id": "7b90326b",
   "metadata": {},
   "source": [
    "### Jaccard Index"
   ]
  },
  {
   "cell_type": "code",
   "execution_count": 4,
   "id": "80d2e588",
   "metadata": {},
   "outputs": [],
   "source": [
    "def Jaccard(graph_nk: nk.graph.Graph):\n",
    "    n = graph_nk.numberOfNodes()\n",
    "    result = np.zeros((n, n))\n",
    "    jaccard_index_counter = nk.linkprediction.JaccardIndex(graph_nk)\n",
    "    for u in range(n):\n",
    "        neighbor_iter = graph_nk.iterNeighbors(u)\n",
    "        for v in neighbor_iter:\n",
    "            if u < v:\n",
    "                value = jaccard_index_counter.run(u, v)\n",
    "                result[u, v] = value\n",
    "                result[v, u] = value\n",
    "    return result\n",
    "\n",
    "\n",
    "jaccard = Jaccard(graph_nk)"
   ]
  },
  {
   "cell_type": "code",
   "execution_count": 115,
   "id": "db0f0218",
   "metadata": {},
   "outputs": [
    {
     "data": {
      "text/plain": [
       "array([[0.        , 0.        , 0.        , 1.        , 0.36907025,\n",
       "        1.        ],\n",
       "       [0.        , 0.        , 0.        , 0.        , 0.        ,\n",
       "        1.        ],\n",
       "       [0.        , 0.        , 0.        , 0.        , 0.        ,\n",
       "        1.        ],\n",
       "       [1.        , 0.        , 0.        , 0.        , 0.        ,\n",
       "        0.        ],\n",
       "       [0.36907025, 0.        , 0.        , 0.        , 0.        ,\n",
       "        1.        ],\n",
       "       [1.        , 1.        , 1.        , 0.        , 1.        ,\n",
       "        0.        ]])"
      ]
     },
     "execution_count": 115,
     "metadata": {},
     "output_type": "execute_result"
    }
   ],
   "source": [
    "def local_degree_score(graph_nk: nk.graph.Graph):\n",
    "    n = graph_nk.numberOfNodes()\n",
    "    scorer = nk.sparsification.LocalDegreeScore(graph_nk)\n",
    "    result = np.zeros((n, n))\n",
    "    graph_nk.indexEdges()\n",
    "    scorer.run()\n",
    "    scores = scorer.scores()\n",
    "\n",
    "    def myFunction(u, v, weight, edgeId):\n",
    "        result[u, v] = scores[edgeId]\n",
    "        result[v, u] = scores[edgeId]\n",
    "        # print(\"({}, {}) -- {}\".format(u, v, scores[edgeId]))\n",
    "\n",
    "    graph_nk.forEdges(myFunction)\n",
    "    return result\n",
    "local_degree_score(graph_nk)"
   ]
  }
 ],
 "metadata": {
  "kernelspec": {
   "display_name": ".venv",
   "language": "python",
   "name": "python3"
  },
  "language_info": {
   "codemirror_mode": {
    "name": "ipython",
    "version": 3
   },
   "file_extension": ".py",
   "mimetype": "text/x-python",
   "name": "python",
   "nbconvert_exporter": "python",
   "pygments_lexer": "ipython3",
   "version": "3.12.4"
  }
 },
 "nbformat": 4,
 "nbformat_minor": 5
}
